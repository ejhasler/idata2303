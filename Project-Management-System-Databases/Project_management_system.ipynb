{
 "cells": [
  {
   "cell_type": "markdown",
   "metadata": {},
   "source": [
    "# <strong> Coding part of the Database Project </strong>\n",
    "\n",
    "### <strong> Brief </strong>\n",
    "\n",
    "<p> <em> In this project we are going to design an Relational database model (E/R) for </em> </p>\n",
    "<p> <em> an Software Project Management System. This project are going to consist of a Report, </em> </p>\n",
    "<p> <em> SQL code, and Design of a Relational Database Model. </em> </p>\n",
    "\n",
    "#### <strong> Sprint 1 </strong>\n",
    "* <em> Design a relational database (E/R diagram) for a software project management system </em>\n",
    "* <em> Fullfills the given requirments </em>\n",
    "\n",
    "#### <strong> Sprint 2 </strong>\n",
    "* <em> Write down SQL for the given queires </em>\n",
    "* <em> Write the SQL based on the designed database </em>\n",
    "\n",
    "#### <strong> Sprint 3 </strong>\n",
    "* <em> Start report \"Conceptual Design for Library Management/Project Management Database\" </em>\n",
    "* <em> Write Problem Analysis </em>\n",
    "* <em> Write Conceptual Design (E/R diagram and description) </em>\n",
    "* <em> Explain the SQL code </em>"
   ]
  },
  {
   "cell_type": "code",
   "execution_count": 52,
   "metadata": {},
   "outputs": [
    {
     "name": "stdout",
     "output_type": "stream",
     "text": [
      "The sql extension is already loaded. To reload it, use:\n",
      "  %reload_ext sql\n"
     ]
    }
   ],
   "source": [
    "%load_ext sql\n",
    "%sql sqlite:///project_management_system.db"
   ]
  },
  {
   "cell_type": "markdown",
   "metadata": {},
   "source": [
    "#### Creating table Project"
   ]
  },
  {
   "cell_type": "code",
   "execution_count": 53,
   "metadata": {},
   "outputs": [
    {
     "name": "stdout",
     "output_type": "stream",
     "text": [
      " * sqlite:///project_management_system.db\n",
      "Done.\n",
      "Done.\n"
     ]
    },
    {
     "data": {
      "text/plain": [
       "[]"
      ]
     },
     "execution_count": 53,
     "metadata": {},
     "output_type": "execute_result"
    }
   ],
   "source": [
    "%%sql\n",
    "DROP TABLE IF EXISTS Project;\n",
    "CREATE TABLE Project (\n",
    "    projectID int NOT NULL UNIQUE,\n",
    "    name varchar(150) NOT NULL DEFAULT '',\n",
    "    startDate date,\n",
    "    endDate date,\n",
    "    leader varchar(150) NOT NULL DEFAULT '',\n",
    "    budget int,\n",
    "    PRIMARY KEY (projectID)\n",
    ");"
   ]
  },
  {
   "cell_type": "markdown",
   "metadata": {},
   "source": [
    "#### Creating the table Employee"
   ]
  },
  {
   "cell_type": "code",
   "execution_count": 54,
   "metadata": {},
   "outputs": [
    {
     "name": "stdout",
     "output_type": "stream",
     "text": [
      " * sqlite:///project_management_system.db\n",
      "Done.\n",
      "Done.\n"
     ]
    },
    {
     "data": {
      "text/plain": [
       "[]"
      ]
     },
     "execution_count": 54,
     "metadata": {},
     "output_type": "execute_result"
    }
   ],
   "source": [
    "%%sql\n",
    "DROP TABLE IF EXISTS Employee;\n",
    "CREATE TABLE Employee (\n",
    "    employeeID int NOT NULL UNIQUE,\n",
    "    name varchar(150) NOT NULL DEFAULT '',\n",
    "    hourlyCost int NOT NULL DEFAULT '',\n",
    "    PRIMARY KEY (employeeID)\n",
    ");"
   ]
  },
  {
   "cell_type": "markdown",
   "metadata": {},
   "source": [
    "#### Creating the table Activity"
   ]
  },
  {
   "cell_type": "code",
   "execution_count": 119,
   "metadata": {},
   "outputs": [
    {
     "name": "stdout",
     "output_type": "stream",
     "text": [
      " * sqlite:///project_management_system.db\n",
      "Done.\n",
      "Done.\n"
     ]
    },
    {
     "data": {
      "text/plain": [
       "[]"
      ]
     },
     "execution_count": 119,
     "metadata": {},
     "output_type": "execute_result"
    }
   ],
   "source": [
    "%%sql\n",
    "DROP TABLE IF EXISTS Activity;\n",
    "CREATE TABLE Activity (\n",
    "    activityID int NOT NULL UNIQUE,\n",
    "    activityType varchar(150) NOT NULL DEFAULT '',\n",
    "    startDate date,\n",
    "    endDate date,\n",
    "    PRIMARY KEY (activityID)\n",
    ");"
   ]
  },
  {
   "cell_type": "markdown",
   "metadata": {},
   "source": [
    "#### Creating the table for Plans"
   ]
  },
  {
   "cell_type": "code",
   "execution_count": 56,
   "metadata": {},
   "outputs": [
    {
     "name": "stdout",
     "output_type": "stream",
     "text": [
      " * sqlite:///project_management_system.db\n",
      "Done.\n",
      "Done.\n"
     ]
    },
    {
     "data": {
      "text/plain": [
       "[]"
      ]
     },
     "execution_count": 56,
     "metadata": {},
     "output_type": "execute_result"
    }
   ],
   "source": [
    "%%sql\n",
    "DROP TABLE IF EXISTS Plans;\n",
    "CREATE TABLE Plans (\n",
    "    planName varchar(150) NOT NULL,\n",
    "    PlanID int NOT NULL UNIQUE,\n",
    "    projectID int NOT NULL,\n",
    "    employeeID int NOT NULL,\n",
    "    activityID int NOT NULL,\n",
    "    startDate date,\n",
    "    endDate date,\n",
    "    budget int,\n",
    "    PRIMARY KEY (PlanID),\n",
    "    FOREIGN KEY (projectID) REFERENCES Project(projectID),\n",
    "    FOREIGN KEY (employeeID) REFERENCES Employee(employeeID),\n",
    "    FOREIGN KEY (activityID) REFERENCES Activity(activityID)\n",
    ");"
   ]
  },
  {
   "cell_type": "markdown",
   "metadata": {},
   "source": [
    "#### Gives Emplyees access to Project, Activity and Plans tables"
   ]
  },
  {
   "cell_type": "code",
   "execution_count": 70,
   "metadata": {},
   "outputs": [
    {
     "name": "stdout",
     "output_type": "stream",
     "text": [
      " * sqlite:///project_management_system.db\n",
      "(sqlite3.OperationalError) near \"GRANT\": syntax error\n",
      "[SQL: GRANT SELECT\n",
      "On TABLE Project, Activity, Plans \n",
      "TO Employee;]\n",
      "(Background on this error at: https://sqlalche.me/e/14/e3q8)\n"
     ]
    }
   ],
   "source": [
    "%%sql\n",
    "GRANT SELECT\n",
    "On TABLE Project, Activity, Plans \n",
    "TO Employee;"
   ]
  },
  {
   "cell_type": "markdown",
   "metadata": {},
   "source": [
    "#### Sets that an activity can be planned to more than one employee, but not the same time period"
   ]
  },
  {
   "cell_type": "code",
   "execution_count": 58,
   "metadata": {},
   "outputs": [
    {
     "name": "stdout",
     "output_type": "stream",
     "text": [
      " * sqlite:///project_management_system.db\n",
      "(sqlite3.OperationalError) incomplete input\n",
      "[SQL: SELECT]\n",
      "(Background on this error at: https://sqlalche.me/e/14/e3q8)\n"
     ]
    }
   ],
   "source": [
    "%%sql\n",
    "SELECT "
   ]
  },
  {
   "cell_type": "markdown",
   "metadata": {},
   "source": [
    "#### How many employees of for a project titled \"A\" are involved in its plan “B”"
   ]
  },
  {
   "cell_type": "code",
   "execution_count": 76,
   "metadata": {},
   "outputs": [
    {
     "name": "stdout",
     "output_type": "stream",
     "text": [
      " * sqlite:///project_management_system.db\n",
      "Done.\n"
     ]
    },
    {
     "data": {
      "text/html": [
       "<table>\n",
       "    <tr>\n",
       "        <th>COUNT(employeeID)</th>\n",
       "    </tr>\n",
       "    <tr>\n",
       "        <td>0</td>\n",
       "    </tr>\n",
       "</table>"
      ],
      "text/plain": [
       "[(0,)]"
      ]
     },
     "execution_count": 76,
     "metadata": {},
     "output_type": "execute_result"
    }
   ],
   "source": [
    "%%sql\n",
    "SELECT COUNT(employeeID)\n",
    "FROM Employee\n",
    "INNER JOIN Plans USING(employeeID)\n",
    "INNER JOIN Project USING(projectID)\n",
    "WHERE Project.name = \"A\"\n",
    "AND Plans.planName = \"B\";"
   ]
  },
  {
   "cell_type": "markdown",
   "metadata": {},
   "source": [
    "#### Retrieve the names of plans made for project “A” with least cost"
   ]
  },
  {
   "cell_type": "code",
   "execution_count": 77,
   "metadata": {},
   "outputs": [
    {
     "name": "stdout",
     "output_type": "stream",
     "text": [
      " * sqlite:///project_management_system.db\n",
      "Done.\n"
     ]
    },
    {
     "data": {
      "text/html": [
       "<table>\n",
       "    <tr>\n",
       "        <th>name</th>\n",
       "    </tr>\n",
       "    <tr>\n",
       "        <td>A</td>\n",
       "    </tr>\n",
       "</table>"
      ],
      "text/plain": [
       "[('A',)]"
      ]
     },
     "execution_count": 77,
     "metadata": {},
     "output_type": "execute_result"
    }
   ],
   "source": [
    "%%sql\n",
    "SELECT name\n",
    "FROM Plans\n",
    "INNER JOIN Project USING(projectID)\n",
    "WHERE Project.name = \"A\"\n",
    "AND Project.budget IN(\n",
    "\tSELECT MIN(budget)\n",
    "\tFROM Project\n",
    ");"
   ]
  },
  {
   "cell_type": "markdown",
   "metadata": {},
   "source": [
    "#### For each employee retrieve the name, project name and plan name with the most working time"
   ]
  },
  {
   "cell_type": "code",
   "execution_count": 127,
   "metadata": {},
   "outputs": [
    {
     "name": "stdout",
     "output_type": "stream",
     "text": [
      " * sqlite:///project_management_system.db\n",
      "Done.\n"
     ]
    },
    {
     "data": {
      "text/html": [
       "<table>\n",
       "    <tr>\n",
       "        <th>name</th>\n",
       "        <th>name_1</th>\n",
       "        <th>PlanID</th>\n",
       "    </tr>\n",
       "    <tr>\n",
       "        <td>Gunnar</td>\n",
       "        <td>A</td>\n",
       "        <td>2</td>\n",
       "    </tr>\n",
       "    <tr>\n",
       "        <td>Mohammed</td>\n",
       "        <td>A</td>\n",
       "        <td>1</td>\n",
       "    </tr>\n",
       "</table>"
      ],
      "text/plain": [
       "[('Gunnar', 'A', 2), ('Mohammed', 'A', 1)]"
      ]
     },
     "execution_count": 127,
     "metadata": {},
     "output_type": "execute_result"
    }
   ],
   "source": [
    "%%sql\n",
    "SELECT Employee.name, Project.name, Plans.planID\n",
    "FROM Employee\n",
    "INNER JOIN Plans USING(employeeID)\n",
    "INNER JOIN Project USING(projectID)\n",
    "GROUP BY Employee.name\n",
    "HAVING (Plans.endDate - Plans.startDate) = (\n",
    "\tSELECT MAX(Plans.endDate - Plans.startDate)\n",
    "\tFROM Project);"
   ]
  },
  {
   "cell_type": "markdown",
   "metadata": {},
   "source": [
    "#### Retrieve all the employee’s name and their least working time with respect to different project"
   ]
  },
  {
   "cell_type": "code",
   "execution_count": 126,
   "metadata": {},
   "outputs": [
    {
     "name": "stdout",
     "output_type": "stream",
     "text": [
      " * sqlite:///project_management_system.db\n",
      "Done.\n"
     ]
    },
    {
     "data": {
      "text/html": [
       "<table>\n",
       "    <tr>\n",
       "        <th>name</th>\n",
       "        <th>leastTime</th>\n",
       "    </tr>\n",
       "    <tr>\n",
       "        <td>Gunnar</td>\n",
       "        <td>1</td>\n",
       "    </tr>\n",
       "    <tr>\n",
       "        <td>Mohammed</td>\n",
       "        <td>1</td>\n",
       "    </tr>\n",
       "</table>"
      ],
      "text/plain": [
       "[('Gunnar', 1), ('Mohammed', 1)]"
      ]
     },
     "execution_count": 126,
     "metadata": {},
     "output_type": "execute_result"
    }
   ],
   "source": [
    "%%sql\n",
    "SELECT Employee.name, (Project.endDate-Project.startDate) as leastTime\n",
    "FROM Employee\n",
    "INNER JOIN Plans USING (employeeID)\n",
    "INNER JOIN Project USING(projectID)\n",
    "GROUP BY Employee.name\n",
    "HAVING leastTime = (\n",
    "    SELECT MIN(leastTime) FROM Project\n",
    ");"
   ]
  },
  {
   "cell_type": "markdown",
   "metadata": {},
   "source": [
    "#### Retrieve all the plans for project with order of their working period"
   ]
  },
  {
   "cell_type": "code",
   "execution_count": 81,
   "metadata": {},
   "outputs": [
    {
     "name": "stdout",
     "output_type": "stream",
     "text": [
      " * sqlite:///project_management_system.db\n",
      "Done.\n"
     ]
    },
    {
     "data": {
      "text/html": [
       "<table>\n",
       "    <tr>\n",
       "        <th>planName</th>\n",
       "        <th>PlanID</th>\n",
       "        <th>projectID</th>\n",
       "        <th>employeeID</th>\n",
       "        <th>activityID</th>\n",
       "        <th>startDate</th>\n",
       "        <th>endDate</th>\n",
       "        <th>budget</th>\n",
       "    </tr>\n",
       "    <tr>\n",
       "        <td>A</td>\n",
       "        <td>1</td>\n",
       "        <td>1</td>\n",
       "        <td>1</td>\n",
       "        <td>1</td>\n",
       "        <td>2022-01-01</td>\n",
       "        <td>2022-02-01</td>\n",
       "        <td>10000</td>\n",
       "    </tr>\n",
       "</table>"
      ],
      "text/plain": [
       "[('A', 1, 1, 1, 1, '2022-01-01', '2022-02-01', 10000)]"
      ]
     },
     "execution_count": 81,
     "metadata": {},
     "output_type": "execute_result"
    }
   ],
   "source": [
    "%%sql\n",
    "SELECT *\n",
    "FROM Plans\n",
    "GROUP BY projectID\n",
    "ORDER BY startDate"
   ]
  },
  {
   "cell_type": "markdown",
   "metadata": {},
   "source": [
    "#### Testing Database"
   ]
  },
  {
   "cell_type": "markdown",
   "metadata": {},
   "source": [
    "##### Inserting Values into Employee"
   ]
  },
  {
   "cell_type": "code",
   "execution_count": 64,
   "metadata": {},
   "outputs": [
    {
     "name": "stdout",
     "output_type": "stream",
     "text": [
      " * sqlite:///project_management_system.db\n",
      "1 rows affected.\n"
     ]
    },
    {
     "data": {
      "text/plain": [
       "[]"
      ]
     },
     "execution_count": 64,
     "metadata": {},
     "output_type": "execute_result"
    }
   ],
   "source": [
    "%%sql\n",
    "INSERT INTO Employee\n",
    "VALUES (3, \"Svanus\", 10);"
   ]
  },
  {
   "cell_type": "markdown",
   "metadata": {},
   "source": [
    "##### Inserting Values into Plans"
   ]
  },
  {
   "cell_type": "code",
   "execution_count": 121,
   "metadata": {},
   "outputs": [
    {
     "name": "stdout",
     "output_type": "stream",
     "text": [
      " * sqlite:///project_management_system.db\n",
      "1 rows affected.\n"
     ]
    },
    {
     "data": {
      "text/plain": [
       "[]"
      ]
     },
     "execution_count": 121,
     "metadata": {},
     "output_type": "execute_result"
    }
   ],
   "source": [
    "%%sql\n",
    "INSERT INTO Plans\n",
    "VALUES ('B',2,1,4,1,'2021-01-02','2021-02-05',300);"
   ]
  },
  {
   "cell_type": "code",
   "execution_count": 111,
   "metadata": {},
   "outputs": [
    {
     "name": "stdout",
     "output_type": "stream",
     "text": [
      " * sqlite:///project_management_system.db\n",
      "1 rows affected.\n"
     ]
    },
    {
     "data": {
      "text/plain": [
       "[]"
      ]
     },
     "execution_count": 111,
     "metadata": {},
     "output_type": "execute_result"
    }
   ],
   "source": [
    "%%sql\n",
    "INSERT INTO Project\n",
    "VALUES (5, \"B\", '2021-01-02', '2022-02-03', 'Bjørn', 350)"
   ]
  },
  {
   "cell_type": "code",
   "execution_count": 120,
   "metadata": {},
   "outputs": [
    {
     "name": "stdout",
     "output_type": "stream",
     "text": [
      " * sqlite:///project_management_system.db\n",
      "1 rows affected.\n"
     ]
    },
    {
     "data": {
      "text/plain": [
       "[]"
      ]
     },
     "execution_count": 120,
     "metadata": {},
     "output_type": "execute_result"
    }
   ],
   "source": [
    "%%sql\n",
    "INSERT INTO Activity\n",
    "VALUES (1, 'work', '2021-01-03','2021-02-05')"
   ]
  }
 ],
 "metadata": {
  "kernelspec": {
   "display_name": "Python 3.9.7 64-bit",
   "language": "python",
   "name": "python3"
  },
  "language_info": {
   "codemirror_mode": {
    "name": "ipython",
    "version": 3
   },
   "file_extension": ".py",
   "mimetype": "text/x-python",
   "name": "python",
   "nbconvert_exporter": "python",
   "pygments_lexer": "ipython3",
   "version": "3.9.7"
  },
  "orig_nbformat": 4,
  "vscode": {
   "interpreter": {
    "hash": "11938c6bc6919ae2720b4d5011047913343b08a43b18698fd82dedb0d4417594"
   }
  }
 },
 "nbformat": 4,
 "nbformat_minor": 2
}
