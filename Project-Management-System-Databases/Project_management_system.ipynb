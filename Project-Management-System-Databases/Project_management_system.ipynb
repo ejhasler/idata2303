{
 "cells": [
  {
   "cell_type": "markdown",
   "metadata": {},
   "source": [
    "# <strong> Coding part of the Database Project </strong>\n",
    "\n",
    "### <strong> Brief </strong>\n",
    "\n",
    "<p> <em> In this project we are going to design an Relational database model (E/R) for </em> </p>\n",
    "<p> <em> an Software Project Management System. This project are going to consist of a Report, </em> </p>\n",
    "<p> <em> SQL code, and Design of a Relational Database Model. </em> </p>\n",
    "\n",
    "#### <strong> Sprint 1 </strong>\n",
    "* <em> Design a relational database (E/R diagram) for a software project management system </em>\n",
    "* <em> Fullfills the given requirments </em>\n",
    "\n",
    "#### <strong> Sprint 2 </strong>\n",
    "* <em> Write down SQL for the given queires </em>\n",
    "* <em> Write the SQL based on the designed database </em>\n",
    "\n",
    "#### <strong> Sprint 3 </strong>\n",
    "* <em> Start report \"Conceptual Design for Library Management/Project Management Database\" </em>\n",
    "* <em> Write Problem Analysis </em>\n",
    "* <em> Write Conceptual Design (E/R diagram and description) </em>\n",
    "* <em> Explain the SQL code </em>"
   ]
  },
  {
   "cell_type": "code",
   "execution_count": 250,
   "metadata": {},
   "outputs": [
    {
     "name": "stdout",
     "output_type": "stream",
     "text": [
      "The sql extension is already loaded. To reload it, use:\n",
      "  %reload_ext sql\n"
     ]
    }
   ],
   "source": [
    "%load_ext sql\n",
    "%sql sqlite:///project_management_system.db"
   ]
  },
  {
   "cell_type": "markdown",
   "metadata": {},
   "source": [
    "#### Creating table Project"
   ]
  },
  {
   "cell_type": "code",
   "execution_count": 251,
   "metadata": {},
   "outputs": [
    {
     "name": "stdout",
     "output_type": "stream",
     "text": [
      " * sqlite:///project_management_system.db\n",
      "Done.\n",
      "Done.\n"
     ]
    },
    {
     "data": {
      "text/plain": [
       "[]"
      ]
     },
     "execution_count": 251,
     "metadata": {},
     "output_type": "execute_result"
    }
   ],
   "source": [
    "%%sql\n",
    "DROP TABLE IF EXISTS Project;\n",
    "CREATE TABLE Project (\n",
    "    projectID int NOT NULL UNIQUE,\n",
    "    name varchar(150) NOT NULL DEFAULT '',\n",
    "    startDate date,\n",
    "    endDate date,\n",
    "    leader varchar(150) NOT NULL DEFAULT '',\n",
    "    budget int,\n",
    "    PRIMARY KEY (projectID)\n",
    ");"
   ]
  },
  {
   "cell_type": "markdown",
   "metadata": {},
   "source": [
    "#### Creating the table Employee"
   ]
  },
  {
   "cell_type": "code",
   "execution_count": 252,
   "metadata": {},
   "outputs": [
    {
     "name": "stdout",
     "output_type": "stream",
     "text": [
      " * sqlite:///project_management_system.db\n",
      "Done.\n",
      "Done.\n"
     ]
    },
    {
     "data": {
      "text/plain": [
       "[]"
      ]
     },
     "execution_count": 252,
     "metadata": {},
     "output_type": "execute_result"
    }
   ],
   "source": [
    "%%sql\n",
    "DROP TABLE IF EXISTS Employee;\n",
    "CREATE TABLE Employee (\n",
    "    employeeID int NOT NULL UNIQUE,\n",
    "    name varchar(150) NOT NULL DEFAULT '',\n",
    "    hourlyCost int NOT NULL DEFAULT '',\n",
    "    PRIMARY KEY (employeeID)\n",
    ");"
   ]
  },
  {
   "cell_type": "markdown",
   "metadata": {},
   "source": [
    "#### Creating the table Activity"
   ]
  },
  {
   "cell_type": "code",
   "execution_count": 253,
   "metadata": {},
   "outputs": [
    {
     "name": "stdout",
     "output_type": "stream",
     "text": [
      " * sqlite:///project_management_system.db\n",
      "Done.\n",
      "(sqlite3.OperationalError) near \",\": syntax error\n",
      "[SQL: CREATE TABLE Activity (\n",
      "    activityID int NOT NULL UNIQUE,\n",
      "    type varchar(150) NOT NULL DEFAULT,\n",
      "    startDate date,\n",
      "    endDate date,\n",
      "    PRIMARY KEY (activityID)\n",
      ");]\n",
      "(Background on this error at: https://sqlalche.me/e/14/e3q8)\n"
     ]
    }
   ],
   "source": [
    "%%sql\n",
    "DROP TABLE IF EXISTS Activity;\n",
    "CREATE TABLE Activity (\n",
    "    activityID int NOT NULL UNIQUE,\n",
    "    type varchar(150) NOT NULL DEFAULT,\n",
    "    startDate date,\n",
    "    endDate date,\n",
    "    PRIMARY KEY (activityID)\n",
    ");"
   ]
  },
  {
   "cell_type": "markdown",
   "metadata": {},
   "source": [
    "#### Creating the table for Plans"
   ]
  },
  {
   "cell_type": "code",
   "execution_count": 254,
   "metadata": {},
   "outputs": [
    {
     "name": "stdout",
     "output_type": "stream",
     "text": [
      " * sqlite:///project_management_system.db\n",
      "Done.\n",
      "Done.\n"
     ]
    },
    {
     "data": {
      "text/plain": [
       "[]"
      ]
     },
     "execution_count": 254,
     "metadata": {},
     "output_type": "execute_result"
    }
   ],
   "source": [
    "%%sql\n",
    "DROP TABLE IF EXISTS Plans;\n",
    "CREATE TABLE Plans (\n",
    "    PlanID int NOT NULL UNIQUE,\n",
    "    projectID int NOT NULL,\n",
    "    employeeID int NOT NULL,\n",
    "    activityID int NOT NULL,\n",
    "    startDate date,\n",
    "    endDate date,\n",
    "    budget int,\n",
    "    PRIMARY KEY (PlanID),\n",
    "    FOREIGN KEY (projectID) REFERENCES Project(projectID),\n",
    "    FOREIGN KEY (employeeID) REFERENCES Employee(employeeID),\n",
    "    FOREIGN KEY (activityID) REFERENCES Activity(activityID)\n",
    ");"
   ]
  },
  {
   "cell_type": "markdown",
   "metadata": {},
   "source": [
    "#### Gives Emplyees access to Project, Activity and Plans tables"
   ]
  },
  {
   "cell_type": "code",
   "execution_count": 255,
   "metadata": {},
   "outputs": [
    {
     "name": "stdout",
     "output_type": "stream",
     "text": [
      " * sqlite:///project_management_system.db\n",
      "(sqlite3.OperationalError) near \"GRANT\": syntax error\n",
      "[SQL: GRANT SELECT\n",
      "On TABLE Project, Activity, Plans \n",
      "TO Employee;]\n",
      "(Background on this error at: https://sqlalche.me/e/14/e3q8)\n"
     ]
    }
   ],
   "source": [
    "%%sql\n",
    "GRANT SELECT\n",
    "On TABLE Project, Activity, Plans \n",
    "TO Employee;"
   ]
  },
  {
   "cell_type": "markdown",
   "metadata": {},
   "source": [
    "#### Sets that an activity can be planned to more than one employee, but not the same time period"
   ]
  },
  {
   "cell_type": "code",
   "execution_count": 256,
   "metadata": {},
   "outputs": [
    {
     "name": "stderr",
     "output_type": "stream",
     "text": [
      "UsageError: %%sql is a cell magic, but the cell body is empty. Did you mean the line magic %sql (single %)?\n"
     ]
    }
   ],
   "source": [
    "%%sql\n"
   ]
  },
  {
   "cell_type": "markdown",
   "metadata": {},
   "source": [
    "#### How many employees of for a project titled \"A\" are involved in its plan “B”"
   ]
  },
  {
   "cell_type": "code",
   "execution_count": 257,
   "metadata": {},
   "outputs": [
    {
     "name": "stdout",
     "output_type": "stream",
     "text": [
      " * sqlite:///project_management_system.db\n",
      "(sqlite3.OperationalError) no such column: Employee\n",
      "[SQL: SELECT COUNT(Employee)\n",
      "FROM Plans\n",
      "INNER JOIN Employee USING(EmployeeID)\n",
      "INNER JOIN Project USING(projectID)\n",
      "WHERE Project.name = \"A\"\n",
      "AND Plans.name = \"B\";]\n",
      "(Background on this error at: https://sqlalche.me/e/14/e3q8)\n"
     ]
    }
   ],
   "source": [
    "%%sql\n",
    "SELECT COUNT(Employee)\n",
    "FROM Plans\n",
    "INNER JOIN Employee USING(EmployeeID)\n",
    "INNER JOIN Project USING(projectID)\n",
    "WHERE Project.name = \"A\"\n",
    "AND Plans.name = \"B\";"
   ]
  },
  {
   "cell_type": "markdown",
   "metadata": {},
   "source": [
    "#### Retrieve the names of plans made for project “A” with least cost"
   ]
  },
  {
   "cell_type": "code",
   "execution_count": 258,
   "metadata": {},
   "outputs": [
    {
     "name": "stdout",
     "output_type": "stream",
     "text": [
      " * sqlite:///project_management_system.db\n",
      "Done.\n"
     ]
    },
    {
     "data": {
      "text/html": [
       "<table>\n",
       "    <tr>\n",
       "        <th>name</th>\n",
       "    </tr>\n",
       "</table>"
      ],
      "text/plain": [
       "[]"
      ]
     },
     "execution_count": 258,
     "metadata": {},
     "output_type": "execute_result"
    }
   ],
   "source": [
    "%%sql\n",
    "SELECT name\n",
    "FROM Plans\n",
    "INNER JOIN Project USING(projectID)\n",
    "WHERE Project.name = \"A\"\n",
    "AND Project.budget IN(\n",
    "\tSELECT MIN(budget)\n",
    "\tFROM Project\n",
    ");"
   ]
  },
  {
   "cell_type": "markdown",
   "metadata": {},
   "source": [
    "#### For each employee retrieve the name, project name and plan name with the most working time"
   ]
  },
  {
   "cell_type": "code",
   "execution_count": 259,
   "metadata": {},
   "outputs": [
    {
     "name": "stdout",
     "output_type": "stream",
     "text": [
      " * sqlite:///project_management_system.db\n",
      "(sqlite3.OperationalError) incomplete input\n",
      "[SQL: SELECT name, Project.name, Plans.name\n",
      "FROM Employee\n",
      "INNER JOIN Plans USING(employeeID)\n",
      "INNER JOIN Project USING(projectID)\n",
      "WHERE (Plans.endDate - Plans.startDate) IN (\n",
      "\tSELECT MAX(Plans.endDate - Plans.startDate)\n",
      "\tWHERE]\n",
      "(Background on this error at: https://sqlalche.me/e/14/e3q8)\n"
     ]
    }
   ],
   "source": [
    "%%sql\n",
    "SELECT name, Project.name, Plans.name\n",
    "FROM Employee\n",
    "INNER JOIN Plans USING(employeeID)\n",
    "INNER JOIN Project USING(projectID)\n",
    "WHERE (Plans.endDate - Plans.startDate) IN (\n",
    "\tSELECT MAX(Plans.endDate - Plans.startDate)\n",
    "\tWHERE"
   ]
  },
  {
   "cell_type": "markdown",
   "metadata": {},
   "source": [
    "#### Retrieve all the employee’s name and their least working time with respect to different project"
   ]
  },
  {
   "cell_type": "code",
   "execution_count": 260,
   "metadata": {},
   "outputs": [
    {
     "name": "stderr",
     "output_type": "stream",
     "text": [
      "UsageError: %%sql is a cell magic, but the cell body is empty. Did you mean the line magic %sql (single %)?\n"
     ]
    }
   ],
   "source": [
    "%%sql\n"
   ]
  },
  {
   "cell_type": "markdown",
   "metadata": {},
   "source": [
    "#### Retrieve all the plans for project with order of their working period"
   ]
  },
  {
   "cell_type": "code",
   "execution_count": 261,
   "metadata": {},
   "outputs": [
    {
     "name": "stderr",
     "output_type": "stream",
     "text": [
      "UsageError: %%sql is a cell magic, but the cell body is empty. Did you mean the line magic %sql (single %)?\n"
     ]
    }
   ],
   "source": [
    "%%sql\n"
   ]
  }
 ],
 "metadata": {
  "kernelspec": {
   "display_name": "Python 3.9.7 64-bit",
   "language": "python",
   "name": "python3"
  },
  "language_info": {
   "codemirror_mode": {
    "name": "ipython",
    "version": 3
   },
   "file_extension": ".py",
   "mimetype": "text/x-python",
   "name": "python",
   "nbconvert_exporter": "python",
   "pygments_lexer": "ipython3",
   "version": "3.9.7"
  },
  "orig_nbformat": 4,
  "vscode": {
   "interpreter": {
    "hash": "11938c6bc6919ae2720b4d5011047913343b08a43b18698fd82dedb0d4417594"
   }
  }
 },
 "nbformat": 4,
 "nbformat_minor": 2
}
